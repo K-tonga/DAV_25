# DAV_25
import pandas as pd
import numpy as np
import seaborn as sns
import math
from math import sqrt
from matplotlib import pyplot as plt
from pandas.plotting import scatter_matrix
import scipy.stats as stats
%matplotlib inline
data = pd.read_csv('taiChiData.csv', sep=',')
data.columns
data.drop_duplicates(inplace=True)
data.dropna()
treatment=data.groupby(['treatment'])
taichi  = list(treatment)[1][1]
print (type(taichi),len(taichi))
taichi['diff'] = taichi['FIQ_baseline'] - taichi['FIQ_24W']
taichi
sns.boxplot(data=taichi.loc[:,['FIQ_baseline','FIQ_24W']])
#Null = there's no significant difference between the baseline mean and mean after 24weeks of treatment.
#Alternative = there's significant difference between the baseline mean and mean after 24weeks of treatment.
taichi.plot(kind='scatter',x='Unnamed: 0',y='FIQ_baseline')
taichi.plot(kind='scatter',x='Unnamed: 0',y='FIQ_24W')
sns.regplot(taichi['Unnamed: 0'],taichi['FIQ_baseline'],'r--')

#Null = pain severity isn't affected by treatment,remains the same.
#Alternative = pain severity changes after treatment
data2=data.dropna()
stats.ttest_rel(data2['FIQ_baseline'], 
                data2['FIQ_24W'])
resin=pd.read_csv('Resin.csv',sep=',')
stats.f_oneway(resin['A'],resin['B'],resin['C'])

#Using 5% significance level
#Pvalue is 0.0008017.. which indicates there is significant difference between the resin materials.
from statsmodels.stats.multicomp import pairwise_tukeyhsd
from statsmodels.stats.multicomp import MultiComparison
m=MultiComparison(resin['A'],resin['C'])
ans=m.tukeyhsd()
print (ans)


#Using 5%significance level
#Since the pvalue is lower than 0.05, we can conclude that there'e signifiacnt cahng in the pain severity after treatment.

